{
 "cells": [
  {
   "cell_type": "markdown",
   "metadata": {},
   "source": [
    "Setting up an environment to compare data processing frameworks such as Pandas, Dask and pySpark"
   ]
  },
  {
   "cell_type": "code",
   "execution_count": 1,
   "metadata": {},
   "outputs": [
    {
     "name": "stdout",
     "output_type": "stream",
     "text": [
      "Collecting pandas\n",
      "  Downloading pandas-2.2.3-cp312-cp312-macosx_11_0_arm64.whl.metadata (89 kB)\n",
      "Collecting numpy>=1.26.0 (from pandas)\n",
      "  Downloading numpy-2.2.3-cp312-cp312-macosx_14_0_arm64.whl.metadata (62 kB)\n",
      "Requirement already satisfied: python-dateutil>=2.8.2 in /Users/armando/.pyenv/versions/3.12.9/envs/gsutil-env/lib/python3.12/site-packages (from pandas) (2.9.0.post0)\n",
      "Collecting pytz>=2020.1 (from pandas)\n",
      "  Using cached pytz-2025.1-py2.py3-none-any.whl.metadata (22 kB)\n",
      "Collecting tzdata>=2022.7 (from pandas)\n",
      "  Using cached tzdata-2025.1-py2.py3-none-any.whl.metadata (1.4 kB)\n",
      "Requirement already satisfied: six>=1.5 in /Users/armando/.pyenv/versions/3.12.9/envs/gsutil-env/lib/python3.12/site-packages (from python-dateutil>=2.8.2->pandas) (1.17.0)\n",
      "Downloading pandas-2.2.3-cp312-cp312-macosx_11_0_arm64.whl (11.4 MB)\n",
      "\u001b[2K   \u001b[90m━━━━━━━━━━━━━━━━━━━━━━━━━━━━━━━━━━━━━━━━\u001b[0m \u001b[32m11.4/11.4 MB\u001b[0m \u001b[31m73.7 MB/s\u001b[0m eta \u001b[36m0:00:00\u001b[0m\n",
      "\u001b[?25hDownloading numpy-2.2.3-cp312-cp312-macosx_14_0_arm64.whl (5.1 MB)\n",
      "\u001b[2K   \u001b[90m━━━━━━━━━━━━━━━━━━━━━━━━━━━━━━━━━━━━━━━━\u001b[0m \u001b[32m5.1/5.1 MB\u001b[0m \u001b[31m73.3 MB/s\u001b[0m eta \u001b[36m0:00:00\u001b[0m\n",
      "\u001b[?25hUsing cached pytz-2025.1-py2.py3-none-any.whl (507 kB)\n",
      "Using cached tzdata-2025.1-py2.py3-none-any.whl (346 kB)\n",
      "Installing collected packages: pytz, tzdata, numpy, pandas\n",
      "Successfully installed numpy-2.2.3 pandas-2.2.3 pytz-2025.1 tzdata-2025.1\n",
      "\n",
      "\u001b[1m[\u001b[0m\u001b[34;49mnotice\u001b[0m\u001b[1;39;49m]\u001b[0m\u001b[39;49m A new release of pip is available: \u001b[0m\u001b[31;49m24.3.1\u001b[0m\u001b[39;49m -> \u001b[0m\u001b[32;49m25.0.1\u001b[0m\n",
      "\u001b[1m[\u001b[0m\u001b[34;49mnotice\u001b[0m\u001b[1;39;49m]\u001b[0m\u001b[39;49m To update, run: \u001b[0m\u001b[32;49mpip install --upgrade pip\u001b[0m\n"
     ]
    }
   ],
   "source": [
    "!pip3 install pandas"
   ]
  },
  {
   "cell_type": "code",
   "execution_count": 2,
   "metadata": {},
   "outputs": [
    {
     "name": "stdout",
     "output_type": "stream",
     "text": [
      "Collecting dask[complete]\n",
      "  Downloading dask-2025.2.0-py3-none-any.whl.metadata (3.8 kB)\n",
      "Collecting click>=8.1 (from dask[complete])\n",
      "  Downloading click-8.1.8-py3-none-any.whl.metadata (2.3 kB)\n",
      "Collecting cloudpickle>=3.0.0 (from dask[complete])\n",
      "  Downloading cloudpickle-3.1.1-py3-none-any.whl.metadata (7.1 kB)\n",
      "Collecting fsspec>=2021.09.0 (from dask[complete])\n",
      "  Downloading fsspec-2025.3.0-py3-none-any.whl.metadata (11 kB)\n",
      "Requirement already satisfied: packaging>=20.0 in /Users/armando/.pyenv/versions/3.12.9/envs/gsutil-env/lib/python3.12/site-packages (from dask[complete]) (24.2)\n",
      "Collecting partd>=1.4.0 (from dask[complete])\n",
      "  Downloading partd-1.4.2-py3-none-any.whl.metadata (4.6 kB)\n",
      "Collecting pyyaml>=5.3.1 (from dask[complete])\n",
      "  Downloading PyYAML-6.0.2-cp312-cp312-macosx_11_0_arm64.whl.metadata (2.1 kB)\n",
      "Collecting toolz>=0.10.0 (from dask[complete])\n",
      "  Downloading toolz-1.0.0-py3-none-any.whl.metadata (5.1 kB)\n",
      "Collecting pyarrow>=14.0.1 (from dask[complete])\n",
      "  Downloading pyarrow-19.0.1-cp312-cp312-macosx_12_0_arm64.whl.metadata (3.3 kB)\n",
      "Collecting lz4>=4.3.2 (from dask[complete])\n",
      "  Downloading lz4-4.4.3-cp312-cp312-macosx_11_0_arm64.whl.metadata (3.8 kB)\n",
      "Collecting locket (from partd>=1.4.0->dask[complete])\n",
      "  Downloading locket-1.0.0-py2.py3-none-any.whl.metadata (2.8 kB)\n",
      "Requirement already satisfied: numpy>=1.24 in /Users/armando/.pyenv/versions/3.12.9/envs/gsutil-env/lib/python3.12/site-packages (from dask[complete]) (2.2.3)\n",
      "Requirement already satisfied: pandas>=2.0 in /Users/armando/.pyenv/versions/3.12.9/envs/gsutil-env/lib/python3.12/site-packages (from dask[complete]) (2.2.3)\n",
      "Collecting distributed==2025.2.0 (from dask[complete])\n",
      "  Downloading distributed-2025.2.0-py3-none-any.whl.metadata (3.3 kB)\n",
      "Collecting bokeh>=3.1.0 (from dask[complete])\n",
      "  Downloading bokeh-3.7.0-py3-none-any.whl.metadata (12 kB)\n",
      "Collecting jinja2>=2.10.3 (from dask[complete])\n",
      "  Downloading jinja2-3.1.6-py3-none-any.whl.metadata (2.9 kB)\n",
      "Collecting msgpack>=1.0.2 (from distributed==2025.2.0->dask[complete])\n",
      "  Downloading msgpack-1.1.0-cp312-cp312-macosx_11_0_arm64.whl.metadata (8.4 kB)\n",
      "Requirement already satisfied: psutil>=5.8.0 in /Users/armando/.pyenv/versions/3.12.9/envs/gsutil-env/lib/python3.12/site-packages (from distributed==2025.2.0->dask[complete]) (7.0.0)\n",
      "Collecting sortedcontainers>=2.0.5 (from distributed==2025.2.0->dask[complete])\n",
      "  Downloading sortedcontainers-2.4.0-py2.py3-none-any.whl.metadata (10 kB)\n",
      "Collecting tblib>=1.6.0 (from distributed==2025.2.0->dask[complete])\n",
      "  Downloading tblib-3.0.0-py3-none-any.whl.metadata (25 kB)\n",
      "Requirement already satisfied: tornado>=6.2.0 in /Users/armando/.pyenv/versions/3.12.9/envs/gsutil-env/lib/python3.12/site-packages (from distributed==2025.2.0->dask[complete]) (6.4.2)\n",
      "Collecting urllib3>=1.26.5 (from distributed==2025.2.0->dask[complete])\n",
      "  Downloading urllib3-2.3.0-py3-none-any.whl.metadata (6.5 kB)\n",
      "Collecting zict>=3.0.0 (from distributed==2025.2.0->dask[complete])\n",
      "  Downloading zict-3.0.0-py2.py3-none-any.whl.metadata (899 bytes)\n",
      "Collecting contourpy>=1.2 (from bokeh>=3.1.0->dask[complete])\n",
      "  Downloading contourpy-1.3.1-cp312-cp312-macosx_11_0_arm64.whl.metadata (5.4 kB)\n",
      "Collecting narwhals>=1.13 (from bokeh>=3.1.0->dask[complete])\n",
      "  Downloading narwhals-1.30.0-py3-none-any.whl.metadata (11 kB)\n",
      "Collecting pillow>=7.1.0 (from bokeh>=3.1.0->dask[complete])\n",
      "  Downloading pillow-11.1.0-cp312-cp312-macosx_11_0_arm64.whl.metadata (9.1 kB)\n",
      "Collecting xyzservices>=2021.09.1 (from bokeh>=3.1.0->dask[complete])\n",
      "  Downloading xyzservices-2025.1.0-py3-none-any.whl.metadata (4.3 kB)\n",
      "Collecting MarkupSafe>=2.0 (from jinja2>=2.10.3->dask[complete])\n",
      "  Downloading MarkupSafe-3.0.2-cp312-cp312-macosx_11_0_arm64.whl.metadata (4.0 kB)\n",
      "Requirement already satisfied: python-dateutil>=2.8.2 in /Users/armando/.pyenv/versions/3.12.9/envs/gsutil-env/lib/python3.12/site-packages (from pandas>=2.0->dask[complete]) (2.9.0.post0)\n",
      "Requirement already satisfied: pytz>=2020.1 in /Users/armando/.pyenv/versions/3.12.9/envs/gsutil-env/lib/python3.12/site-packages (from pandas>=2.0->dask[complete]) (2025.1)\n",
      "Requirement already satisfied: tzdata>=2022.7 in /Users/armando/.pyenv/versions/3.12.9/envs/gsutil-env/lib/python3.12/site-packages (from pandas>=2.0->dask[complete]) (2025.1)\n",
      "Requirement already satisfied: six>=1.5 in /Users/armando/.pyenv/versions/3.12.9/envs/gsutil-env/lib/python3.12/site-packages (from python-dateutil>=2.8.2->pandas>=2.0->dask[complete]) (1.17.0)\n",
      "Downloading click-8.1.8-py3-none-any.whl (98 kB)\n",
      "Downloading cloudpickle-3.1.1-py3-none-any.whl (20 kB)\n",
      "Downloading fsspec-2025.3.0-py3-none-any.whl (193 kB)\n",
      "Downloading lz4-4.4.3-cp312-cp312-macosx_11_0_arm64.whl (189 kB)\n",
      "Downloading partd-1.4.2-py3-none-any.whl (18 kB)\n",
      "Downloading pyarrow-19.0.1-cp312-cp312-macosx_12_0_arm64.whl (30.7 MB)\n",
      "\u001b[2K   \u001b[90m━━━━━━━━━━━━━━━━━━━━━━━━━━━━━━━━━━━━━━━━\u001b[0m \u001b[32m30.7/30.7 MB\u001b[0m \u001b[31m59.0 MB/s\u001b[0m eta \u001b[36m0:00:00\u001b[0ma \u001b[36m0:00:01\u001b[0m\n",
      "\u001b[?25hDownloading PyYAML-6.0.2-cp312-cp312-macosx_11_0_arm64.whl (173 kB)\n",
      "Downloading toolz-1.0.0-py3-none-any.whl (56 kB)\n",
      "Downloading dask-2025.2.0-py3-none-any.whl (1.4 MB)\n",
      "\u001b[2K   \u001b[90m━━━━━━━━━━━━━━━━━━━━━━━━━━━━━━━━━━━━━━━━\u001b[0m \u001b[32m1.4/1.4 MB\u001b[0m \u001b[31m70.8 MB/s\u001b[0m eta \u001b[36m0:00:00\u001b[0m\n",
      "\u001b[?25hDownloading distributed-2025.2.0-py3-none-any.whl (1.0 MB)\n",
      "\u001b[2K   \u001b[90m━━━━━━━━━━━━━━━━━━━━━━━━━━━━━━━━━━━━━━━━\u001b[0m \u001b[32m1.0/1.0 MB\u001b[0m \u001b[31m46.8 MB/s\u001b[0m eta \u001b[36m0:00:00\u001b[0m\n",
      "\u001b[?25hDownloading bokeh-3.7.0-py3-none-any.whl (7.0 MB)\n",
      "\u001b[2K   \u001b[90m━━━━━━━━━━━━━━━━━━━━━━━━━━━━━━━━━━━━━━━━\u001b[0m \u001b[32m7.0/7.0 MB\u001b[0m \u001b[31m69.1 MB/s\u001b[0m eta \u001b[36m0:00:00\u001b[0m\n",
      "\u001b[?25hDownloading jinja2-3.1.6-py3-none-any.whl (134 kB)\n",
      "Downloading locket-1.0.0-py2.py3-none-any.whl (4.4 kB)\n",
      "Downloading contourpy-1.3.1-cp312-cp312-macosx_11_0_arm64.whl (255 kB)\n",
      "Downloading MarkupSafe-3.0.2-cp312-cp312-macosx_11_0_arm64.whl (12 kB)\n",
      "Downloading msgpack-1.1.0-cp312-cp312-macosx_11_0_arm64.whl (82 kB)\n",
      "Downloading narwhals-1.30.0-py3-none-any.whl (313 kB)\n",
      "Downloading pillow-11.1.0-cp312-cp312-macosx_11_0_arm64.whl (3.1 MB)\n",
      "\u001b[2K   \u001b[90m━━━━━━━━━━━━━━━━━━━━━━━━━━━━━━━━━━━━━━━━\u001b[0m \u001b[32m3.1/3.1 MB\u001b[0m \u001b[31m62.3 MB/s\u001b[0m eta \u001b[36m0:00:00\u001b[0m\n",
      "\u001b[?25hDownloading sortedcontainers-2.4.0-py2.py3-none-any.whl (29 kB)\n",
      "Downloading tblib-3.0.0-py3-none-any.whl (12 kB)\n",
      "Downloading urllib3-2.3.0-py3-none-any.whl (128 kB)\n",
      "Downloading xyzservices-2025.1.0-py3-none-any.whl (88 kB)\n",
      "Downloading zict-3.0.0-py2.py3-none-any.whl (43 kB)\n",
      "Installing collected packages: sortedcontainers, zict, xyzservices, urllib3, toolz, tblib, pyyaml, pyarrow, pillow, narwhals, msgpack, MarkupSafe, lz4, locket, fsspec, contourpy, cloudpickle, click, partd, jinja2, dask, bokeh, distributed\n",
      "Successfully installed MarkupSafe-3.0.2 bokeh-3.7.0 click-8.1.8 cloudpickle-3.1.1 contourpy-1.3.1 dask-2025.2.0 distributed-2025.2.0 fsspec-2025.3.0 jinja2-3.1.6 locket-1.0.0 lz4-4.4.3 msgpack-1.1.0 narwhals-1.30.0 partd-1.4.2 pillow-11.1.0 pyarrow-19.0.1 pyyaml-6.0.2 sortedcontainers-2.4.0 tblib-3.0.0 toolz-1.0.0 urllib3-2.3.0 xyzservices-2025.1.0 zict-3.0.0\n",
      "\n",
      "\u001b[1m[\u001b[0m\u001b[34;49mnotice\u001b[0m\u001b[1;39;49m]\u001b[0m\u001b[39;49m A new release of pip is available: \u001b[0m\u001b[31;49m24.3.1\u001b[0m\u001b[39;49m -> \u001b[0m\u001b[32;49m25.0.1\u001b[0m\n",
      "\u001b[1m[\u001b[0m\u001b[34;49mnotice\u001b[0m\u001b[1;39;49m]\u001b[0m\u001b[39;49m To update, run: \u001b[0m\u001b[32;49mpip install --upgrade pip\u001b[0m\n"
     ]
    }
   ],
   "source": [
    "!pip3 install dask\\[complete\\]"
   ]
  },
  {
   "cell_type": "code",
   "execution_count": 3,
   "metadata": {},
   "outputs": [
    {
     "name": "stdout",
     "output_type": "stream",
     "text": [
      "Collecting pyspark\n",
      "  Downloading pyspark-3.5.5.tar.gz (317.2 MB)\n",
      "\u001b[2K     \u001b[90m━━━━━━━━━━━━━━━━━━━━━━━━━━━━━━━━━━━━━━\u001b[0m \u001b[32m317.2/317.2 MB\u001b[0m \u001b[31m74.3 MB/s\u001b[0m eta \u001b[36m0:00:00\u001b[0m00:01\u001b[0m00:01\u001b[0m\n",
      "\u001b[?25h  Installing build dependencies ... \u001b[?25ldone\n",
      "\u001b[?25h  Getting requirements to build wheel ... \u001b[?25ldone\n",
      "\u001b[?25h  Preparing metadata (pyproject.toml) ... \u001b[?25ldone\n",
      "\u001b[?25hCollecting py4j==0.10.9.7 (from pyspark)\n",
      "  Downloading py4j-0.10.9.7-py2.py3-none-any.whl.metadata (1.5 kB)\n",
      "Downloading py4j-0.10.9.7-py2.py3-none-any.whl (200 kB)\n",
      "Building wheels for collected packages: pyspark\n",
      "  Building wheel for pyspark (pyproject.toml) ... \u001b[?25ldone\n",
      "\u001b[?25h  Created wheel for pyspark: filename=pyspark-3.5.5-py2.py3-none-any.whl size=317747922 sha256=d44e5df28a9b6c123c5f81565c73c91355da0b90f68c431195d9af217fdbf452\n",
      "  Stored in directory: /Users/armando/Library/Caches/pip/wheels/8f/cb/c0/cc57eb1bf0f9dc87cdaf2b0dbac49e58a210ff68d21d6fc709\n",
      "Successfully built pyspark\n",
      "Installing collected packages: py4j, pyspark\n",
      "Successfully installed py4j-0.10.9.7 pyspark-3.5.5\n",
      "\n",
      "\u001b[1m[\u001b[0m\u001b[34;49mnotice\u001b[0m\u001b[1;39;49m]\u001b[0m\u001b[39;49m A new release of pip is available: \u001b[0m\u001b[31;49m24.3.1\u001b[0m\u001b[39;49m -> \u001b[0m\u001b[32;49m25.0.1\u001b[0m\n",
      "\u001b[1m[\u001b[0m\u001b[34;49mnotice\u001b[0m\u001b[1;39;49m]\u001b[0m\u001b[39;49m To update, run: \u001b[0m\u001b[32;49mpip install --upgrade pip\u001b[0m\n"
     ]
    }
   ],
   "source": [
    "!pip3 install pyspark"
   ]
  },
  {
   "cell_type": "code",
   "execution_count": 4,
   "metadata": {},
   "outputs": [
    {
     "name": "stdout",
     "output_type": "stream",
     "text": [
      "Cloning into 'data'...\n",
      "remote: Enumerating objects: 156, done.\u001b[K\n",
      "remote: Counting objects: 100% (11/11), done.\u001b[K\n",
      "remote: Compressing objects: 100% (10/10), done.\u001b[K\n",
      "remote: Total 156 (delta 3), reused 7 (delta 1), pack-reused 145 (from 1)\u001b[K\n",
      "Receiving objects: 100% (156/156), 282.65 MiB | 41.41 MiB/s, done.\n",
      "Resolving deltas: 100% (17/17), done.\n"
     ]
    }
   ],
   "source": [
    "# Setup Data Repository\n",
    "!git clone https://github.com/dgadiraju/data"
   ]
  },
  {
   "cell_type": "code",
   "execution_count": 5,
   "metadata": {},
   "outputs": [
    {
     "name": "stdout",
     "output_type": "stream",
     "text": [
      "total 272040\n",
      "-rw-r--r--@ 1 armando  staff   3842443 Mar 14 13:21 NYSE_1997.txt.gz\n",
      "-rw-r--r--@ 1 armando  staff   4142942 Mar 14 13:21 NYSE_1998.txt.gz\n",
      "-rw-r--r--@ 1 armando  staff   4297025 Mar 14 13:21 NYSE_1999.txt.gz\n",
      "-rw-r--r--@ 1 armando  staff   4439306 Mar 14 13:21 NYSE_2000.txt.gz\n",
      "-rw-r--r--@ 1 armando  staff   4722623 Mar 14 13:21 NYSE_2001.txt.gz\n",
      "-rw-r--r--@ 1 armando  staff   5021940 Mar 14 13:21 NYSE_2002.txt.gz\n",
      "-rw-r--r--@ 1 armando  staff   5271305 Mar 14 13:21 NYSE_2003.txt.gz\n",
      "-rw-r--r--@ 1 armando  staff   5689069 Mar 14 13:21 NYSE_2004.txt.gz\n",
      "-rw-r--r--@ 1 armando  staff   6207833 Mar 14 13:21 NYSE_2005.txt.gz\n",
      "-rw-r--r--@ 1 armando  staff   6480175 Mar 14 13:21 NYSE_2006.txt.gz\n",
      "-rw-r--r--@ 1 armando  staff   6903056 Mar 14 13:21 NYSE_2007.txt.gz\n",
      "-rw-r--r--@ 1 armando  staff   7179621 Mar 14 13:21 NYSE_2008.txt.gz\n",
      "-rw-r--r--@ 1 armando  staff   7186235 Mar 14 13:21 NYSE_2009.txt.gz\n",
      "-rw-r--r--@ 1 armando  staff   7551218 Mar 14 13:21 NYSE_2010.txt.gz\n",
      "-rw-r--r--@ 1 armando  staff   7980961 Mar 14 13:21 NYSE_2011.txt.gz\n",
      "-rw-r--r--@ 1 armando  staff   8538688 Mar 14 13:21 NYSE_2012.txt.gz\n",
      "-rw-r--r--@ 1 armando  staff   9588984 Mar 14 13:21 NYSE_2013.txt.gz\n",
      "-rw-r--r--@ 1 armando  staff  10552757 Mar 14 13:21 NYSE_2014.txt.gz\n",
      "-rw-r--r--@ 1 armando  staff  11327417 Mar 14 13:21 NYSE_2015.txt.gz\n",
      "-rw-r--r--@ 1 armando  staff  11796756 Mar 14 13:21 NYSE_2016.txt.gz\n",
      "-rw-r--r--@ 1 armando  staff    519586 Mar 14 13:21 NYSE_2017.txt.gz\n"
     ]
    }
   ],
   "source": [
    "!ls -ltr data/nyse_all/nyse_data/"
   ]
  },
  {
   "cell_type": "code",
   "execution_count": 6,
   "metadata": {},
   "outputs": [
    {
     "data": {
      "text/plain": [
       "9384739"
      ]
     },
     "execution_count": 6,
     "metadata": {},
     "output_type": "execute_result"
    }
   ],
   "source": [
    "# Using Pandas\n",
    "\n",
    "import glob\n",
    "import pandas as pd\n",
    "\n",
    "files = glob.glob('data/nyse_all/nyse_data/*')\n",
    "rec_count = 0\n",
    "\n",
    "for file in files:\n",
    "    df = pd.read_csv(\n",
    "        file,\n",
    "        names=['stock_id', 'trans_date', 'open_price', 'low_price', 'high_price', 'volume']\n",
    "    )\n",
    "    rec_count += df.shape[0]\n",
    "\n",
    "rec_count"
   ]
  }
 ],
 "metadata": {
  "kernelspec": {
   "display_name": "gsutil-env",
   "language": "python",
   "name": "python3"
  },
  "language_info": {
   "codemirror_mode": {
    "name": "ipython",
    "version": 3
   },
   "file_extension": ".py",
   "mimetype": "text/x-python",
   "name": "python",
   "nbconvert_exporter": "python",
   "pygments_lexer": "ipython3",
   "version": "3.12.9"
  }
 },
 "nbformat": 4,
 "nbformat_minor": 2
}

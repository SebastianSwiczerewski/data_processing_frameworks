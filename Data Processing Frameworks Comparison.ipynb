{
 "cells": [
  {
   "cell_type": "markdown",
   "metadata": {},
   "source": [
    "Setting up an environment to compare data processing frameworks such as Pandas, Dask and Pyspark"
   ]
  },
  {
   "cell_type": "code",
   "execution_count": 1,
   "metadata": {},
   "outputs": [
    {
     "name": "stdout",
     "output_type": "stream",
     "text": [
      "Requirement already satisfied: pandas in /Users/armando/.pyenv/versions/3.12.9/envs/gsutil-env/lib/python3.12/site-packages (2.2.3)\n",
      "Requirement already satisfied: numpy>=1.26.0 in /Users/armando/.pyenv/versions/3.12.9/envs/gsutil-env/lib/python3.12/site-packages (from pandas) (2.2.3)\n",
      "Requirement already satisfied: python-dateutil>=2.8.2 in /Users/armando/.pyenv/versions/3.12.9/envs/gsutil-env/lib/python3.12/site-packages (from pandas) (2.9.0.post0)\n",
      "Requirement already satisfied: pytz>=2020.1 in /Users/armando/.pyenv/versions/3.12.9/envs/gsutil-env/lib/python3.12/site-packages (from pandas) (2025.1)\n",
      "Requirement already satisfied: tzdata>=2022.7 in /Users/armando/.pyenv/versions/3.12.9/envs/gsutil-env/lib/python3.12/site-packages (from pandas) (2025.1)\n",
      "Requirement already satisfied: six>=1.5 in /Users/armando/.pyenv/versions/3.12.9/envs/gsutil-env/lib/python3.12/site-packages (from python-dateutil>=2.8.2->pandas) (1.17.0)\n",
      "\n",
      "\u001b[1m[\u001b[0m\u001b[34;49mnotice\u001b[0m\u001b[1;39;49m]\u001b[0m\u001b[39;49m A new release of pip is available: \u001b[0m\u001b[31;49m24.3.1\u001b[0m\u001b[39;49m -> \u001b[0m\u001b[32;49m25.0.1\u001b[0m\n",
      "\u001b[1m[\u001b[0m\u001b[34;49mnotice\u001b[0m\u001b[1;39;49m]\u001b[0m\u001b[39;49m To update, run: \u001b[0m\u001b[32;49mpip install --upgrade pip\u001b[0m\n"
     ]
    }
   ],
   "source": [
    "!pip3 install pandas"
   ]
  },
  {
   "cell_type": "code",
   "execution_count": 2,
   "metadata": {},
   "outputs": [
    {
     "name": "stdout",
     "output_type": "stream",
     "text": [
      "Requirement already satisfied: dask[complete] in /Users/armando/.pyenv/versions/3.12.9/envs/gsutil-env/lib/python3.12/site-packages (2025.2.0)\n",
      "Requirement already satisfied: click>=8.1 in /Users/armando/.pyenv/versions/3.12.9/envs/gsutil-env/lib/python3.12/site-packages (from dask[complete]) (8.1.8)\n",
      "Requirement already satisfied: cloudpickle>=3.0.0 in /Users/armando/.pyenv/versions/3.12.9/envs/gsutil-env/lib/python3.12/site-packages (from dask[complete]) (3.1.1)\n",
      "Requirement already satisfied: fsspec>=2021.09.0 in /Users/armando/.pyenv/versions/3.12.9/envs/gsutil-env/lib/python3.12/site-packages (from dask[complete]) (2025.3.0)\n",
      "Requirement already satisfied: packaging>=20.0 in /Users/armando/.pyenv/versions/3.12.9/envs/gsutil-env/lib/python3.12/site-packages (from dask[complete]) (24.2)\n",
      "Requirement already satisfied: partd>=1.4.0 in /Users/armando/.pyenv/versions/3.12.9/envs/gsutil-env/lib/python3.12/site-packages (from dask[complete]) (1.4.2)\n",
      "Requirement already satisfied: pyyaml>=5.3.1 in /Users/armando/.pyenv/versions/3.12.9/envs/gsutil-env/lib/python3.12/site-packages (from dask[complete]) (6.0.2)\n",
      "Requirement already satisfied: toolz>=0.10.0 in /Users/armando/.pyenv/versions/3.12.9/envs/gsutil-env/lib/python3.12/site-packages (from dask[complete]) (1.0.0)\n",
      "Requirement already satisfied: pyarrow>=14.0.1 in /Users/armando/.pyenv/versions/3.12.9/envs/gsutil-env/lib/python3.12/site-packages (from dask[complete]) (19.0.1)\n",
      "Requirement already satisfied: lz4>=4.3.2 in /Users/armando/.pyenv/versions/3.12.9/envs/gsutil-env/lib/python3.12/site-packages (from dask[complete]) (4.4.3)\n",
      "Requirement already satisfied: locket in /Users/armando/.pyenv/versions/3.12.9/envs/gsutil-env/lib/python3.12/site-packages (from partd>=1.4.0->dask[complete]) (1.0.0)\n",
      "Requirement already satisfied: numpy>=1.24 in /Users/armando/.pyenv/versions/3.12.9/envs/gsutil-env/lib/python3.12/site-packages (from dask[complete]) (2.2.3)\n",
      "Requirement already satisfied: pandas>=2.0 in /Users/armando/.pyenv/versions/3.12.9/envs/gsutil-env/lib/python3.12/site-packages (from dask[complete]) (2.2.3)\n",
      "Requirement already satisfied: distributed==2025.2.0 in /Users/armando/.pyenv/versions/3.12.9/envs/gsutil-env/lib/python3.12/site-packages (from dask[complete]) (2025.2.0)\n",
      "Requirement already satisfied: bokeh>=3.1.0 in /Users/armando/.pyenv/versions/3.12.9/envs/gsutil-env/lib/python3.12/site-packages (from dask[complete]) (3.7.0)\n",
      "Requirement already satisfied: jinja2>=2.10.3 in /Users/armando/.pyenv/versions/3.12.9/envs/gsutil-env/lib/python3.12/site-packages (from dask[complete]) (3.1.6)\n",
      "Requirement already satisfied: msgpack>=1.0.2 in /Users/armando/.pyenv/versions/3.12.9/envs/gsutil-env/lib/python3.12/site-packages (from distributed==2025.2.0->dask[complete]) (1.1.0)\n",
      "Requirement already satisfied: psutil>=5.8.0 in /Users/armando/.pyenv/versions/3.12.9/envs/gsutil-env/lib/python3.12/site-packages (from distributed==2025.2.0->dask[complete]) (7.0.0)\n",
      "Requirement already satisfied: sortedcontainers>=2.0.5 in /Users/armando/.pyenv/versions/3.12.9/envs/gsutil-env/lib/python3.12/site-packages (from distributed==2025.2.0->dask[complete]) (2.4.0)\n",
      "Requirement already satisfied: tblib>=1.6.0 in /Users/armando/.pyenv/versions/3.12.9/envs/gsutil-env/lib/python3.12/site-packages (from distributed==2025.2.0->dask[complete]) (3.0.0)\n",
      "Requirement already satisfied: tornado>=6.2.0 in /Users/armando/.pyenv/versions/3.12.9/envs/gsutil-env/lib/python3.12/site-packages (from distributed==2025.2.0->dask[complete]) (6.4.2)\n",
      "Requirement already satisfied: urllib3>=1.26.5 in /Users/armando/.pyenv/versions/3.12.9/envs/gsutil-env/lib/python3.12/site-packages (from distributed==2025.2.0->dask[complete]) (2.3.0)\n",
      "Requirement already satisfied: zict>=3.0.0 in /Users/armando/.pyenv/versions/3.12.9/envs/gsutil-env/lib/python3.12/site-packages (from distributed==2025.2.0->dask[complete]) (3.0.0)\n",
      "Requirement already satisfied: contourpy>=1.2 in /Users/armando/.pyenv/versions/3.12.9/envs/gsutil-env/lib/python3.12/site-packages (from bokeh>=3.1.0->dask[complete]) (1.3.1)\n",
      "Requirement already satisfied: narwhals>=1.13 in /Users/armando/.pyenv/versions/3.12.9/envs/gsutil-env/lib/python3.12/site-packages (from bokeh>=3.1.0->dask[complete]) (1.30.0)\n",
      "Requirement already satisfied: pillow>=7.1.0 in /Users/armando/.pyenv/versions/3.12.9/envs/gsutil-env/lib/python3.12/site-packages (from bokeh>=3.1.0->dask[complete]) (11.1.0)\n",
      "Requirement already satisfied: xyzservices>=2021.09.1 in /Users/armando/.pyenv/versions/3.12.9/envs/gsutil-env/lib/python3.12/site-packages (from bokeh>=3.1.0->dask[complete]) (2025.1.0)\n",
      "Requirement already satisfied: MarkupSafe>=2.0 in /Users/armando/.pyenv/versions/3.12.9/envs/gsutil-env/lib/python3.12/site-packages (from jinja2>=2.10.3->dask[complete]) (3.0.2)\n",
      "Requirement already satisfied: python-dateutil>=2.8.2 in /Users/armando/.pyenv/versions/3.12.9/envs/gsutil-env/lib/python3.12/site-packages (from pandas>=2.0->dask[complete]) (2.9.0.post0)\n",
      "Requirement already satisfied: pytz>=2020.1 in /Users/armando/.pyenv/versions/3.12.9/envs/gsutil-env/lib/python3.12/site-packages (from pandas>=2.0->dask[complete]) (2025.1)\n",
      "Requirement already satisfied: tzdata>=2022.7 in /Users/armando/.pyenv/versions/3.12.9/envs/gsutil-env/lib/python3.12/site-packages (from pandas>=2.0->dask[complete]) (2025.1)\n",
      "Requirement already satisfied: six>=1.5 in /Users/armando/.pyenv/versions/3.12.9/envs/gsutil-env/lib/python3.12/site-packages (from python-dateutil>=2.8.2->pandas>=2.0->dask[complete]) (1.17.0)\n",
      "\n",
      "\u001b[1m[\u001b[0m\u001b[34;49mnotice\u001b[0m\u001b[1;39;49m]\u001b[0m\u001b[39;49m A new release of pip is available: \u001b[0m\u001b[31;49m24.3.1\u001b[0m\u001b[39;49m -> \u001b[0m\u001b[32;49m25.0.1\u001b[0m\n",
      "\u001b[1m[\u001b[0m\u001b[34;49mnotice\u001b[0m\u001b[1;39;49m]\u001b[0m\u001b[39;49m To update, run: \u001b[0m\u001b[32;49mpip install --upgrade pip\u001b[0m\n"
     ]
    }
   ],
   "source": [
    "!pip3 install dask\\[complete\\]"
   ]
  },
  {
   "cell_type": "code",
   "execution_count": 3,
   "metadata": {},
   "outputs": [
    {
     "name": "stdout",
     "output_type": "stream",
     "text": [
      "Requirement already satisfied: pyspark in /Users/armando/.pyenv/versions/3.12.9/envs/gsutil-env/lib/python3.12/site-packages (3.5.5)\n",
      "Requirement already satisfied: py4j==0.10.9.7 in /Users/armando/.pyenv/versions/3.12.9/envs/gsutil-env/lib/python3.12/site-packages (from pyspark) (0.10.9.7)\n",
      "\n",
      "\u001b[1m[\u001b[0m\u001b[34;49mnotice\u001b[0m\u001b[1;39;49m]\u001b[0m\u001b[39;49m A new release of pip is available: \u001b[0m\u001b[31;49m24.3.1\u001b[0m\u001b[39;49m -> \u001b[0m\u001b[32;49m25.0.1\u001b[0m\n",
      "\u001b[1m[\u001b[0m\u001b[34;49mnotice\u001b[0m\u001b[1;39;49m]\u001b[0m\u001b[39;49m To update, run: \u001b[0m\u001b[32;49mpip install --upgrade pip\u001b[0m\n"
     ]
    }
   ],
   "source": [
    "!pip3 install pyspark"
   ]
  },
  {
   "cell_type": "code",
   "execution_count": 4,
   "metadata": {},
   "outputs": [
    {
     "name": "stdout",
     "output_type": "stream",
     "text": [
      "Requirement already satisfied: ipykernel in /Users/armando/.pyenv/versions/3.12.9/envs/gsutil-env/lib/python3.12/site-packages (6.29.5)\n",
      "Requirement already satisfied: appnope in /Users/armando/.pyenv/versions/3.12.9/envs/gsutil-env/lib/python3.12/site-packages (from ipykernel) (0.1.4)\n",
      "Requirement already satisfied: comm>=0.1.1 in /Users/armando/.pyenv/versions/3.12.9/envs/gsutil-env/lib/python3.12/site-packages (from ipykernel) (0.2.2)\n",
      "Requirement already satisfied: debugpy>=1.6.5 in /Users/armando/.pyenv/versions/3.12.9/envs/gsutil-env/lib/python3.12/site-packages (from ipykernel) (1.8.13)\n",
      "Requirement already satisfied: ipython>=7.23.1 in /Users/armando/.pyenv/versions/3.12.9/envs/gsutil-env/lib/python3.12/site-packages (from ipykernel) (9.0.2)\n",
      "Requirement already satisfied: jupyter-client>=6.1.12 in /Users/armando/.pyenv/versions/3.12.9/envs/gsutil-env/lib/python3.12/site-packages (from ipykernel) (8.6.3)\n",
      "Requirement already satisfied: jupyter-core!=5.0.*,>=4.12 in /Users/armando/.pyenv/versions/3.12.9/envs/gsutil-env/lib/python3.12/site-packages (from ipykernel) (5.7.2)\n",
      "Requirement already satisfied: matplotlib-inline>=0.1 in /Users/armando/.pyenv/versions/3.12.9/envs/gsutil-env/lib/python3.12/site-packages (from ipykernel) (0.1.7)\n",
      "Requirement already satisfied: nest-asyncio in /Users/armando/.pyenv/versions/3.12.9/envs/gsutil-env/lib/python3.12/site-packages (from ipykernel) (1.6.0)\n",
      "Requirement already satisfied: packaging in /Users/armando/.pyenv/versions/3.12.9/envs/gsutil-env/lib/python3.12/site-packages (from ipykernel) (24.2)\n",
      "Requirement already satisfied: psutil in /Users/armando/.pyenv/versions/3.12.9/envs/gsutil-env/lib/python3.12/site-packages (from ipykernel) (7.0.0)\n",
      "Requirement already satisfied: pyzmq>=24 in /Users/armando/.pyenv/versions/3.12.9/envs/gsutil-env/lib/python3.12/site-packages (from ipykernel) (26.3.0)\n",
      "Requirement already satisfied: tornado>=6.1 in /Users/armando/.pyenv/versions/3.12.9/envs/gsutil-env/lib/python3.12/site-packages (from ipykernel) (6.4.2)\n",
      "Requirement already satisfied: traitlets>=5.4.0 in /Users/armando/.pyenv/versions/3.12.9/envs/gsutil-env/lib/python3.12/site-packages (from ipykernel) (5.14.3)\n",
      "Requirement already satisfied: decorator in /Users/armando/.pyenv/versions/3.12.9/envs/gsutil-env/lib/python3.12/site-packages (from ipython>=7.23.1->ipykernel) (5.2.1)\n",
      "Requirement already satisfied: ipython-pygments-lexers in /Users/armando/.pyenv/versions/3.12.9/envs/gsutil-env/lib/python3.12/site-packages (from ipython>=7.23.1->ipykernel) (1.1.1)\n",
      "Requirement already satisfied: jedi>=0.16 in /Users/armando/.pyenv/versions/3.12.9/envs/gsutil-env/lib/python3.12/site-packages (from ipython>=7.23.1->ipykernel) (0.19.2)\n",
      "Requirement already satisfied: pexpect>4.3 in /Users/armando/.pyenv/versions/3.12.9/envs/gsutil-env/lib/python3.12/site-packages (from ipython>=7.23.1->ipykernel) (4.9.0)\n",
      "Requirement already satisfied: prompt_toolkit<3.1.0,>=3.0.41 in /Users/armando/.pyenv/versions/3.12.9/envs/gsutil-env/lib/python3.12/site-packages (from ipython>=7.23.1->ipykernel) (3.0.50)\n",
      "Requirement already satisfied: pygments>=2.4.0 in /Users/armando/.pyenv/versions/3.12.9/envs/gsutil-env/lib/python3.12/site-packages (from ipython>=7.23.1->ipykernel) (2.19.1)\n",
      "Requirement already satisfied: stack_data in /Users/armando/.pyenv/versions/3.12.9/envs/gsutil-env/lib/python3.12/site-packages (from ipython>=7.23.1->ipykernel) (0.6.3)\n",
      "Requirement already satisfied: python-dateutil>=2.8.2 in /Users/armando/.pyenv/versions/3.12.9/envs/gsutil-env/lib/python3.12/site-packages (from jupyter-client>=6.1.12->ipykernel) (2.9.0.post0)\n",
      "Requirement already satisfied: platformdirs>=2.5 in /Users/armando/.pyenv/versions/3.12.9/envs/gsutil-env/lib/python3.12/site-packages (from jupyter-core!=5.0.*,>=4.12->ipykernel) (4.3.6)\n",
      "Requirement already satisfied: parso<0.9.0,>=0.8.4 in /Users/armando/.pyenv/versions/3.12.9/envs/gsutil-env/lib/python3.12/site-packages (from jedi>=0.16->ipython>=7.23.1->ipykernel) (0.8.4)\n",
      "Requirement already satisfied: ptyprocess>=0.5 in /Users/armando/.pyenv/versions/3.12.9/envs/gsutil-env/lib/python3.12/site-packages (from pexpect>4.3->ipython>=7.23.1->ipykernel) (0.7.0)\n",
      "Requirement already satisfied: wcwidth in /Users/armando/.pyenv/versions/3.12.9/envs/gsutil-env/lib/python3.12/site-packages (from prompt_toolkit<3.1.0,>=3.0.41->ipython>=7.23.1->ipykernel) (0.2.13)\n",
      "Requirement already satisfied: six>=1.5 in /Users/armando/.pyenv/versions/3.12.9/envs/gsutil-env/lib/python3.12/site-packages (from python-dateutil>=2.8.2->jupyter-client>=6.1.12->ipykernel) (1.17.0)\n",
      "Requirement already satisfied: executing>=1.2.0 in /Users/armando/.pyenv/versions/3.12.9/envs/gsutil-env/lib/python3.12/site-packages (from stack_data->ipython>=7.23.1->ipykernel) (2.2.0)\n",
      "Requirement already satisfied: asttokens>=2.1.0 in /Users/armando/.pyenv/versions/3.12.9/envs/gsutil-env/lib/python3.12/site-packages (from stack_data->ipython>=7.23.1->ipykernel) (3.0.0)\n",
      "Requirement already satisfied: pure-eval in /Users/armando/.pyenv/versions/3.12.9/envs/gsutil-env/lib/python3.12/site-packages (from stack_data->ipython>=7.23.1->ipykernel) (0.2.3)\n",
      "\n",
      "\u001b[1m[\u001b[0m\u001b[34;49mnotice\u001b[0m\u001b[1;39;49m]\u001b[0m\u001b[39;49m A new release of pip is available: \u001b[0m\u001b[31;49m24.3.1\u001b[0m\u001b[39;49m -> \u001b[0m\u001b[32;49m25.0.1\u001b[0m\n",
      "\u001b[1m[\u001b[0m\u001b[34;49mnotice\u001b[0m\u001b[1;39;49m]\u001b[0m\u001b[39;49m To update, run: \u001b[0m\u001b[32;49mpip install --upgrade pip\u001b[0m\n"
     ]
    }
   ],
   "source": [
    "!pip3 install ipykernel"
   ]
  },
  {
   "cell_type": "code",
   "execution_count": 5,
   "metadata": {},
   "outputs": [
    {
     "name": "stdout",
     "output_type": "stream",
     "text": [
      "fatal: destination path 'data' already exists and is not an empty directory.\n"
     ]
    }
   ],
   "source": [
    "# Setup Data Repository\n",
    "!git clone https://github.com/dgadiraju/data"
   ]
  },
  {
   "cell_type": "code",
   "execution_count": 6,
   "metadata": {},
   "outputs": [
    {
     "name": "stdout",
     "output_type": "stream",
     "text": [
      "total 272040\n",
      "-rw-r--r--@ 1 armando  staff   3842443 Mar 14 13:21 NYSE_1997.txt.gz\n",
      "-rw-r--r--@ 1 armando  staff   4142942 Mar 14 13:21 NYSE_1998.txt.gz\n",
      "-rw-r--r--@ 1 armando  staff   4297025 Mar 14 13:21 NYSE_1999.txt.gz\n",
      "-rw-r--r--@ 1 armando  staff   4439306 Mar 14 13:21 NYSE_2000.txt.gz\n",
      "-rw-r--r--@ 1 armando  staff   4722623 Mar 14 13:21 NYSE_2001.txt.gz\n",
      "-rw-r--r--@ 1 armando  staff   5021940 Mar 14 13:21 NYSE_2002.txt.gz\n",
      "-rw-r--r--@ 1 armando  staff   5271305 Mar 14 13:21 NYSE_2003.txt.gz\n",
      "-rw-r--r--@ 1 armando  staff   5689069 Mar 14 13:21 NYSE_2004.txt.gz\n",
      "-rw-r--r--@ 1 armando  staff   6207833 Mar 14 13:21 NYSE_2005.txt.gz\n",
      "-rw-r--r--@ 1 armando  staff   6480175 Mar 14 13:21 NYSE_2006.txt.gz\n",
      "-rw-r--r--@ 1 armando  staff   6903056 Mar 14 13:21 NYSE_2007.txt.gz\n",
      "-rw-r--r--@ 1 armando  staff   7179621 Mar 14 13:21 NYSE_2008.txt.gz\n",
      "-rw-r--r--@ 1 armando  staff   7186235 Mar 14 13:21 NYSE_2009.txt.gz\n",
      "-rw-r--r--@ 1 armando  staff   7551218 Mar 14 13:21 NYSE_2010.txt.gz\n",
      "-rw-r--r--@ 1 armando  staff   7980961 Mar 14 13:21 NYSE_2011.txt.gz\n",
      "-rw-r--r--@ 1 armando  staff   8538688 Mar 14 13:21 NYSE_2012.txt.gz\n",
      "-rw-r--r--@ 1 armando  staff   9588984 Mar 14 13:21 NYSE_2013.txt.gz\n",
      "-rw-r--r--@ 1 armando  staff  10552757 Mar 14 13:21 NYSE_2014.txt.gz\n",
      "-rw-r--r--@ 1 armando  staff  11327417 Mar 14 13:21 NYSE_2015.txt.gz\n",
      "-rw-r--r--@ 1 armando  staff  11796756 Mar 14 13:21 NYSE_2016.txt.gz\n",
      "-rw-r--r--@ 1 armando  staff    519586 Mar 14 13:21 NYSE_2017.txt.gz\n"
     ]
    }
   ],
   "source": [
    "!ls -ltr data/nyse_all/nyse_data/"
   ]
  },
  {
   "cell_type": "code",
   "execution_count": 7,
   "metadata": {},
   "outputs": [
    {
     "data": {
      "text/plain": [
       "9384739"
      ]
     },
     "execution_count": 7,
     "metadata": {},
     "output_type": "execute_result"
    }
   ],
   "source": [
    "# Using Pandas\n",
    "\n",
    "import glob\n",
    "import pandas as pd\n",
    "\n",
    "files = glob.glob('data/nyse_all/nyse_data/*')\n",
    "rec_count = 0\n",
    "\n",
    "for file in files:\n",
    "    df = pd.read_csv(\n",
    "        file,\n",
    "        names=['stock_id', 'trans_date', 'open_price', 'low_price', 'high_price', 'volume']\n",
    "    )\n",
    "    rec_count += df.shape[0]\n",
    "\n",
    "rec_count"
   ]
  },
  {
   "cell_type": "code",
   "execution_count": 8,
   "metadata": {},
   "outputs": [
    {
     "name": "stderr",
     "output_type": "stream",
     "text": [
      "/Users/armando/.pyenv/versions/gsutil-env/lib/python3.12/site-packages/dask/dataframe/io/csv.py:508: UserWarning: Warning gzip compression does not support breaking apart files\n",
      "Please ensure that each individual file can fit in memory and\n",
      "use the keyword ``blocksize=None to remove this message``\n",
      "Setting ``blocksize=None``\n",
      "  warn(\n"
     ]
    },
    {
     "data": {
      "text/plain": [
       "9384739"
      ]
     },
     "execution_count": 8,
     "metadata": {},
     "output_type": "execute_result"
    }
   ],
   "source": [
    "# Using Dask\n",
    "\n",
    "import dask.dataframe as dd\n",
    "\n",
    "df = dd.read_csv(\n",
    "    'data/nyse_all/nyse_data/*',\n",
    "    names=['stock_id', 'trans_date', 'open_price', 'low_price', 'high_price', 'volume']\n",
    ")\n",
    "df.shape[0].compute()"
   ]
  },
  {
   "cell_type": "code",
   "execution_count": null,
   "metadata": {},
   "outputs": [
    {
     "ename": "NameError",
     "evalue": "name 'SparkSession' is not defined",
     "output_type": "error",
     "traceback": [
      "\u001b[31m---------------------------------------------------------------------------\u001b[39m",
      "\u001b[31mNameError\u001b[39m                                 Traceback (most recent call last)",
      "\u001b[36mCell\u001b[39m\u001b[36m \u001b[39m\u001b[32mIn[9]\u001b[39m\u001b[32m, line 9\u001b[39m\n\u001b[32m      6\u001b[39m \u001b[38;5;28;01mif\u001b[39;00m SparkContext._active_spark_context:\n\u001b[32m      7\u001b[39m     SparkContext._active_spark_context.stop()\n\u001b[32m----> \u001b[39m\u001b[32m9\u001b[39m spark = \u001b[43mSparkSession\u001b[49m. \\\n\u001b[32m     10\u001b[39m     builder. \\\n\u001b[32m     11\u001b[39m     appName(\u001b[33m'\u001b[39m\u001b[33mNYSE count\u001b[39m\u001b[33m'\u001b[39m). \\\n\u001b[32m     12\u001b[39m     master(\u001b[33m'\u001b[39m\u001b[33mlocal[*]\u001b[39m\u001b[33m'\u001b[39m). \\\n\u001b[32m     13\u001b[39m     getOrCreate()\n\u001b[32m     15\u001b[39m df = spark. \\\n\u001b[32m     16\u001b[39m     read. \\\n\u001b[32m     17\u001b[39m     csv(\n\u001b[32m   (...)\u001b[39m\u001b[32m     21\u001b[39m \u001b[33m        \u001b[39m\u001b[33m'''\u001b[39m\n\u001b[32m     22\u001b[39m     )\n\u001b[32m     23\u001b[39m df.count()\n",
      "\u001b[31mNameError\u001b[39m: name 'SparkSession' is not defined"
     ]
    }
   ],
   "source": [
    "# Using Pyspark\n",
    "# Close any existing Spark session\n",
    "import os\n",
    "from pyspark import SparkContext\n",
    "\n",
    "if SparkContext._active_spark_context:\n",
    "    SparkContext._active_spark_context.stop()\n",
    "\n",
    "from pyspark.sql import SparkSession\n",
    "\n",
    "spark = SparkSession. \\\n",
    "    builder. \\\n",
    "    appName('NYSE count'). \\\n",
    "    master('local[*]'). \\\n",
    "    getOrCreate()\n",
    "\n",
    "df = spark. \\\n",
    "    read. \\\n",
    "    csv(\n",
    "        'data/nyse_all/nyse_data/*',\n",
    "        schema='''\n",
    "            stock_id STRING, trans_date STRING, open_price FLOAT, low_price FLOAT, high_price FLOAT, close_price FLOAT, volume BIGINT\n",
    "        '''\n",
    "    )\n",
    "df.count()"
   ]
  },
  {
   "cell_type": "code",
   "execution_count": null,
   "metadata": {},
   "outputs": [],
   "source": [
    "# Using Pyspark\n",
    "\n",
    "from pyspark.sql import SparkSession\n",
    "\n",
    "spark = SparkSession. \\\n",
    "    builder. \\\n",
    "    appName('NYSE count'). \\\n",
    "    master('local'). \\\n",
    "    getOrCreate()\n",
    "\n",
    "df = spark. \\\n",
    "    read. \\\n",
    "    csv(\n",
    "        'data/nyse_all/nyse_data/*',\n",
    "        schema='''\n",
    "            stock_id STRING, trans_date STRING, open_price FLOAT, low_price FLOAT, high_price FLOAT, close_price FLOAT, volume BIGINT\n",
    "        '''\n",
    "    )\n",
    "df.count()"
   ]
  },
  {
   "cell_type": "code",
   "execution_count": null,
   "metadata": {},
   "outputs": [],
   "source": []
  }
 ],
 "metadata": {
  "kernelspec": {
   "display_name": "gsutil-env",
   "language": "python",
   "name": "python3"
  },
  "language_info": {
   "codemirror_mode": {
    "name": "ipython",
    "version": 3
   },
   "file_extension": ".py",
   "mimetype": "text/x-python",
   "name": "python",
   "nbconvert_exporter": "python",
   "pygments_lexer": "ipython3",
   "version": "3.12.9"
  }
 },
 "nbformat": 4,
 "nbformat_minor": 2
}
